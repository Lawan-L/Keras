{
  "nbformat": 4,
  "nbformat_minor": 0,
  "metadata": {
    "colab": {
      "name": "Tokenizer.ipynb",
      "provenance": [],
      "authorship_tag": "ABX9TyMImYNW6lnI2fx1e1TtceFD",
      "include_colab_link": true
    },
    "kernelspec": {
      "name": "python3",
      "display_name": "Python 3"
    }
  },
  "cells": [
    {
      "cell_type": "markdown",
      "metadata": {
        "id": "view-in-github",
        "colab_type": "text"
      },
      "source": [
        "<a href=\"https://colab.research.google.com/github/lawan94/Keras/blob/main/Tokenizer.ipynb\" target=\"_parent\"><img src=\"https://colab.research.google.com/assets/colab-badge.svg\" alt=\"Open In Colab\"/></a>"
      ]
    },
    {
      "cell_type": "code",
      "metadata": {
        "colab": {
          "base_uri": "https://localhost:8080/"
        },
        "id": "H3LcSyD8Bn7C",
        "outputId": "c642f558-8df1-422a-afae-b0c2fd85f872"
      },
      "source": [
        "import tensorflow as tf\n",
        "from tensorflow import keras\n",
        "from tensorflow.keras.preprocessing.text import Tokenizer\n",
        "\n",
        "sentences = [\"Today is a sunny day\",\n",
        "             \"Today is a rainy day\",\n",
        "             \"Is it sunny today?\"\n",
        "             ]\n",
        "tokenizer = Tokenizer(num_words=100,  )\n",
        "tokenizer.fit_on_texts(sentences)\n",
        "word_index = tokenizer.word_index\n",
        "sequences = tokenizer.texts_to_sequences(sentences)\n",
        "print(sequences)\n",
        "test_data = [\"Today is a snowy day\",\n",
        "             \"Will it be rainy tomorrow?\"\n",
        "]\n",
        "test_sequences = tokenizer.texts_to_sequences(test_data)\n",
        "#print(test_sequences)\n",
        "\n",
        "#To explore padding, let’s add another, much longer, sentence to the corpus:\n",
        "newSentences = [\n",
        " 'Today is a sunny day',\n",
        " 'Today is a rainy day',\n",
        " 'Is it sunny today?',\n",
        " 'I really enjoyed walking in the snow today'\n",
        "]\n",
        "tokenizer.fit_on_texts(newSentences)\n",
        "newSequences  = (tokenizer.texts_to_sequences(newSentences)) #not the same shape\n",
        "\n",
        "#make these same length\n",
        "\n",
        "from  tensorflow.keras.preprocessing.sequence import pad_sequences\n",
        "padded = pad_sequences(newSequences)\n",
        "#print(padded) # corpus have same length now\n",
        "\n",
        "# use maxlen\n",
        "\n",
        "padded = pad_sequences(sequences, padding=\"post\", maxlen=6)\n",
        "print(padded)"
      ],
      "execution_count": 11,
      "outputs": [
        {
          "output_type": "stream",
          "text": [
            "[[1, 2, 3, 4, 5], [1, 2, 3, 6, 5], [2, 7, 4, 1]]\n",
            "[[1 2 3 4 5 0]\n",
            " [1 2 3 6 5 0]\n",
            " [2 7 4 1 0 0]]\n"
          ],
          "name": "stdout"
        }
      ]
    }
  ]
}