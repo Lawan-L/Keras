{
  "nbformat": 4,
  "nbformat_minor": 0,
  "metadata": {
    "colab": {
      "name": "conv2D.ipynb",
      "provenance": [],
      "authorship_tag": "ABX9TyM1xSW50XPkWoRQu+XDRgCj",
      "include_colab_link": true
    },
    "kernelspec": {
      "name": "python3",
      "display_name": "Python 3"
    }
  },
  "cells": [
    {
      "cell_type": "markdown",
      "metadata": {
        "id": "view-in-github",
        "colab_type": "text"
      },
      "source": [
        "<a href=\"https://colab.research.google.com/github/lawan94/Keras/blob/main/conv2D.ipynb\" target=\"_parent\"><img src=\"https://colab.research.google.com/assets/colab-badge.svg\" alt=\"Open In Colab\"/></a>"
      ]
    },
    {
      "cell_type": "code",
      "metadata": {
        "colab": {
          "base_uri": "https://localhost:8080/"
        },
        "id": "T-FdEVLNlKcx",
        "outputId": "2dff9e4f-3983-454a-96e7-230ef0faecf0"
      },
      "source": [
        "import tensorflow as tf\n",
        "data = tf.keras.datasets.fashion_mnist\n",
        "(training_images, training_labels), (test_images, test_labels) = data.load_data()\n",
        "training_images = training_images.reshape(60000, 28, 28, 1)\n",
        "training_images = training_images / 255.0\n",
        "test_images = test_images.reshape(10000, 28, 28, 1)\n",
        "test_images = test_images / 255.0\n",
        "model = tf.keras.models.Sequential([\n",
        " tf.keras.layers.Conv2D(64, (3, 3), activation='relu',\n",
        " input_shape=(28, 28, 1)),\n",
        " tf.keras.layers.MaxPooling2D(2, 2),\n",
        " tf.keras.layers.Conv2D(64, (3, 3), activation='relu'),\n",
        " tf.keras.layers.MaxPooling2D(2,2),\n",
        " tf.keras.layers.Flatten(),\n",
        " tf.keras.layers.Dense(128, activation=tf.nn.relu),\n",
        " tf.keras.layers.Dense(10, activation=tf.nn.softmax)\n",
        " ])\n",
        "model.compile(optimizer='adam',\n",
        " loss='sparse_categorical_crossentropy',\n",
        " metrics=['accuracy'])\n",
        "model.fit(training_images, training_labels, epochs=10)\n",
        "model.evaluate(test_images, test_labels)"
      ],
      "execution_count": 10,
      "outputs": [
        {
          "output_type": "stream",
          "text": [
            "Epoch 1/10\n",
            "1875/1875 [==============================] - 78s 42ms/step - loss: 0.4397 - accuracy: 0.8407\n",
            "Epoch 2/10\n",
            "1875/1875 [==============================] - 77s 41ms/step - loss: 0.2943 - accuracy: 0.8920\n",
            "Epoch 3/10\n",
            "1875/1875 [==============================] - 77s 41ms/step - loss: 0.2488 - accuracy: 0.9076\n",
            "Epoch 4/10\n",
            "1875/1875 [==============================] - 77s 41ms/step - loss: 0.2154 - accuracy: 0.9200\n",
            "Epoch 5/10\n",
            "1875/1875 [==============================] - 77s 41ms/step - loss: 0.1923 - accuracy: 0.9282\n",
            "Epoch 6/10\n",
            "1875/1875 [==============================] - 76s 41ms/step - loss: 0.1695 - accuracy: 0.9359\n",
            "Epoch 7/10\n",
            "1875/1875 [==============================] - 76s 41ms/step - loss: 0.1496 - accuracy: 0.9438\n",
            "Epoch 8/10\n",
            "1875/1875 [==============================] - 77s 41ms/step - loss: 0.1311 - accuracy: 0.9506\n",
            "Epoch 9/10\n",
            "1875/1875 [==============================] - 77s 41ms/step - loss: 0.1156 - accuracy: 0.9568\n",
            "Epoch 10/10\n",
            "1875/1875 [==============================] - 77s 41ms/step - loss: 0.1012 - accuracy: 0.9623\n",
            "313/313 [==============================] - 4s 13ms/step - loss: 0.3127 - accuracy: 0.9087\n"
          ],
          "name": "stdout"
        },
        {
          "output_type": "execute_result",
          "data": {
            "text/plain": [
              "[0.3126535713672638, 0.9086999893188477]"
            ]
          },
          "metadata": {
            "tags": []
          },
          "execution_count": 10
        }
      ]
    },
    {
      "cell_type": "code",
      "metadata": {
        "colab": {
          "base_uri": "https://localhost:8080/"
        },
        "id": "tKL4jMSez_OE",
        "outputId": "4b9814bc-65b0-4d35-b2e2-4e1e8e1fd05f"
      },
      "source": [
        "train_images.shape[1]"
      ],
      "execution_count": 8,
      "outputs": [
        {
          "output_type": "execute_result",
          "data": {
            "text/plain": [
              "28"
            ]
          },
          "metadata": {
            "tags": []
          },
          "execution_count": 8
        }
      ]
    }
  ]
}